{
 "cells": [
  {
   "cell_type": "code",
   "execution_count": 1,
   "metadata": {},
   "outputs": [
    {
     "data": {
      "text/plain": [
       "'Libraries imported!'"
      ]
     },
     "execution_count": 1,
     "metadata": {},
     "output_type": "execute_result"
    }
   ],
   "source": [
    "import pandas as pd\n",
    "import numpy as np\n",
    "import matplotlib.pyplot as plt\n",
    "import warnings\n",
    "warnings.filterwarnings(action='ignore')\n",
    "'Libraries imported!'"
   ]
  },
  {
   "cell_type": "code",
   "execution_count": 2,
   "metadata": {},
   "outputs": [
    {
     "data": {
      "text/plain": [
       "'DataFrame created!'"
      ]
     },
     "execution_count": 2,
     "metadata": {},
     "output_type": "execute_result"
    }
   ],
   "source": [
    "data = pd.read_csv('churn_data_simple.csv')\n",
    "'DataFrame created!'"
   ]
  },
  {
   "cell_type": "code",
   "execution_count": 3,
   "metadata": {},
   "outputs": [
    {
     "data": {
      "text/html": [
       "<div>\n",
       "<style scoped>\n",
       "    .dataframe tbody tr th:only-of-type {\n",
       "        vertical-align: middle;\n",
       "    }\n",
       "\n",
       "    .dataframe tbody tr th {\n",
       "        vertical-align: top;\n",
       "    }\n",
       "\n",
       "    .dataframe thead th {\n",
       "        text-align: right;\n",
       "    }\n",
       "</style>\n",
       "<table border=\"1\" class=\"dataframe\">\n",
       "  <thead>\n",
       "    <tr style=\"text-align: right;\">\n",
       "      <th></th>\n",
       "      <th>Unnamed: 0</th>\n",
       "      <th>customer_id</th>\n",
       "      <th>vintage</th>\n",
       "      <th>age</th>\n",
       "      <th>gender</th>\n",
       "      <th>dependents</th>\n",
       "      <th>occupation</th>\n",
       "      <th>city</th>\n",
       "      <th>customer_nw_category</th>\n",
       "      <th>branch_code</th>\n",
       "      <th>...</th>\n",
       "      <th>current_month_debit</th>\n",
       "      <th>previous_month_debit</th>\n",
       "      <th>current_month_balance</th>\n",
       "      <th>previous_month_balance</th>\n",
       "      <th>churn</th>\n",
       "      <th>days_since_last_transaction</th>\n",
       "      <th>doy_lst_tran</th>\n",
       "      <th>woy_lst_tran</th>\n",
       "      <th>moy_lst_tran</th>\n",
       "      <th>dow_lst_tran</th>\n",
       "    </tr>\n",
       "  </thead>\n",
       "  <tbody>\n",
       "    <tr>\n",
       "      <th>0</th>\n",
       "      <td>0</td>\n",
       "      <td>1</td>\n",
       "      <td>2101</td>\n",
       "      <td>66</td>\n",
       "      <td>1</td>\n",
       "      <td>0.0</td>\n",
       "      <td>3</td>\n",
       "      <td>187.0</td>\n",
       "      <td>2</td>\n",
       "      <td>755</td>\n",
       "      <td>...</td>\n",
       "      <td>0.20</td>\n",
       "      <td>0.20</td>\n",
       "      <td>1458.71</td>\n",
       "      <td>1458.71</td>\n",
       "      <td>0</td>\n",
       "      <td>623</td>\n",
       "      <td>141.0</td>\n",
       "      <td>21.0</td>\n",
       "      <td>5.0</td>\n",
       "      <td>1.0</td>\n",
       "    </tr>\n",
       "    <tr>\n",
       "      <th>1</th>\n",
       "      <td>1</td>\n",
       "      <td>2</td>\n",
       "      <td>2348</td>\n",
       "      <td>35</td>\n",
       "      <td>1</td>\n",
       "      <td>0.0</td>\n",
       "      <td>3</td>\n",
       "      <td>1020.0</td>\n",
       "      <td>2</td>\n",
       "      <td>3214</td>\n",
       "      <td>...</td>\n",
       "      <td>5486.27</td>\n",
       "      <td>100.56</td>\n",
       "      <td>6496.78</td>\n",
       "      <td>8787.61</td>\n",
       "      <td>0</td>\n",
       "      <td>459</td>\n",
       "      <td>305.0</td>\n",
       "      <td>44.0</td>\n",
       "      <td>11.0</td>\n",
       "      <td>4.0</td>\n",
       "    </tr>\n",
       "    <tr>\n",
       "      <th>2</th>\n",
       "      <td>3</td>\n",
       "      <td>5</td>\n",
       "      <td>2329</td>\n",
       "      <td>90</td>\n",
       "      <td>1</td>\n",
       "      <td>0.0</td>\n",
       "      <td>3</td>\n",
       "      <td>1020.0</td>\n",
       "      <td>2</td>\n",
       "      <td>582</td>\n",
       "      <td>...</td>\n",
       "      <td>0.47</td>\n",
       "      <td>2143.33</td>\n",
       "      <td>2291.91</td>\n",
       "      <td>1669.79</td>\n",
       "      <td>1</td>\n",
       "      <td>546</td>\n",
       "      <td>218.0</td>\n",
       "      <td>32.0</td>\n",
       "      <td>8.0</td>\n",
       "      <td>1.0</td>\n",
       "    </tr>\n",
       "    <tr>\n",
       "      <th>3</th>\n",
       "      <td>4</td>\n",
       "      <td>6</td>\n",
       "      <td>1579</td>\n",
       "      <td>42</td>\n",
       "      <td>1</td>\n",
       "      <td>2.0</td>\n",
       "      <td>3</td>\n",
       "      <td>1494.0</td>\n",
       "      <td>3</td>\n",
       "      <td>388</td>\n",
       "      <td>...</td>\n",
       "      <td>588.62</td>\n",
       "      <td>1538.06</td>\n",
       "      <td>1157.15</td>\n",
       "      <td>1677.16</td>\n",
       "      <td>1</td>\n",
       "      <td>457</td>\n",
       "      <td>307.0</td>\n",
       "      <td>44.0</td>\n",
       "      <td>11.0</td>\n",
       "      <td>6.0</td>\n",
       "    </tr>\n",
       "    <tr>\n",
       "      <th>4</th>\n",
       "      <td>5</td>\n",
       "      <td>7</td>\n",
       "      <td>1923</td>\n",
       "      <td>42</td>\n",
       "      <td>0</td>\n",
       "      <td>0.0</td>\n",
       "      <td>3</td>\n",
       "      <td>1096.0</td>\n",
       "      <td>2</td>\n",
       "      <td>1666</td>\n",
       "      <td>...</td>\n",
       "      <td>857.50</td>\n",
       "      <td>286.07</td>\n",
       "      <td>15719.44</td>\n",
       "      <td>15349.75</td>\n",
       "      <td>0</td>\n",
       "      <td>459</td>\n",
       "      <td>305.0</td>\n",
       "      <td>44.0</td>\n",
       "      <td>11.0</td>\n",
       "      <td>4.0</td>\n",
       "    </tr>\n",
       "  </tbody>\n",
       "</table>\n",
       "<p>5 rows × 26 columns</p>\n",
       "</div>"
      ],
      "text/plain": [
       "   Unnamed: 0  customer_id  vintage  age  gender  dependents  occupation  \\\n",
       "0           0            1     2101   66       1         0.0           3   \n",
       "1           1            2     2348   35       1         0.0           3   \n",
       "2           3            5     2329   90       1         0.0           3   \n",
       "3           4            6     1579   42       1         2.0           3   \n",
       "4           5            7     1923   42       0         0.0           3   \n",
       "\n",
       "     city  customer_nw_category  branch_code  ...  current_month_debit  \\\n",
       "0   187.0                     2          755  ...                 0.20   \n",
       "1  1020.0                     2         3214  ...              5486.27   \n",
       "2  1020.0                     2          582  ...                 0.47   \n",
       "3  1494.0                     3          388  ...               588.62   \n",
       "4  1096.0                     2         1666  ...               857.50   \n",
       "\n",
       "   previous_month_debit  current_month_balance  previous_month_balance  churn  \\\n",
       "0                  0.20                1458.71                 1458.71      0   \n",
       "1                100.56                6496.78                 8787.61      0   \n",
       "2               2143.33                2291.91                 1669.79      1   \n",
       "3               1538.06                1157.15                 1677.16      1   \n",
       "4                286.07               15719.44                15349.75      0   \n",
       "\n",
       "   days_since_last_transaction  doy_lst_tran  woy_lst_tran  moy_lst_tran  \\\n",
       "0                          623         141.0          21.0           5.0   \n",
       "1                          459         305.0          44.0          11.0   \n",
       "2                          546         218.0          32.0           8.0   \n",
       "3                          457         307.0          44.0          11.0   \n",
       "4                          459         305.0          44.0          11.0   \n",
       "\n",
       "   dow_lst_tran  \n",
       "0           1.0  \n",
       "1           4.0  \n",
       "2           1.0  \n",
       "3           6.0  \n",
       "4           4.0  \n",
       "\n",
       "[5 rows x 26 columns]"
      ]
     },
     "execution_count": 3,
     "metadata": {},
     "output_type": "execute_result"
    }
   ],
   "source": [
    "data.head()"
   ]
  },
  {
   "cell_type": "markdown",
   "metadata": {},
   "source": [
    "## Checking if the dataset is balanced or not!"
   ]
  },
  {
   "cell_type": "code",
   "execution_count": 4,
   "metadata": {},
   "outputs": [
    {
     "data": {
      "text/plain": [
       "0    0.802814\n",
       "1    0.197186\n",
       "Name: churn, dtype: float64"
      ]
     },
     "execution_count": 4,
     "metadata": {},
     "output_type": "execute_result"
    }
   ],
   "source": [
    "data.churn.value_counts(normalize=True)"
   ]
  },
  {
   "cell_type": "markdown",
   "metadata": {},
   "source": [
    "* Hence, the dataset is imbalanced!"
   ]
  },
  {
   "cell_type": "markdown",
   "metadata": {},
   "source": [
    "## Separating dependent and independent variables"
   ]
  },
  {
   "cell_type": "code",
   "execution_count": 5,
   "metadata": {},
   "outputs": [],
   "source": [
    "X = data.drop(columns=['churn','Unnamed: 0','customer_id'])\n",
    "Y = data['churn']"
   ]
  },
  {
   "cell_type": "markdown",
   "metadata": {},
   "source": [
    "## Scaling the dataset"
   ]
  },
  {
   "cell_type": "code",
   "execution_count": 6,
   "metadata": {},
   "outputs": [],
   "source": [
    "from sklearn.preprocessing import StandardScaler\n",
    "scaler = StandardScaler()\n",
    "scaled_X = scaler.fit_transform(X)"
   ]
  },
  {
   "cell_type": "markdown",
   "metadata": {},
   "source": [
    "## Splitting the dataset"
   ]
  },
  {
   "cell_type": "code",
   "execution_count": 7,
   "metadata": {},
   "outputs": [
    {
     "data": {
      "text/plain": [
       "((20127, 23), (5032, 23), (20127,), (5032,))"
      ]
     },
     "execution_count": 7,
     "metadata": {},
     "output_type": "execute_result"
    }
   ],
   "source": [
    "from sklearn.model_selection import train_test_split as tts\n",
    "X_train, X_test, y_train, y_test = tts(scaled_X, Y, train_size = 0.80, random_state=42)\n",
    "X_train.shape,X_test.shape, y_train.shape, y_test.shape"
   ]
  },
  {
   "cell_type": "markdown",
   "metadata": {},
   "source": [
    "## Model Building, Random Forest"
   ]
  },
  {
   "cell_type": "code",
   "execution_count": 8,
   "metadata": {},
   "outputs": [
    {
     "data": {
      "text/plain": [
       "RandomForestClassifier()"
      ]
     },
     "execution_count": 8,
     "metadata": {},
     "output_type": "execute_result"
    }
   ],
   "source": [
    "from sklearn.ensemble import RandomForestClassifier as RFC\n",
    "forest = RFC()\n",
    "forest.fit(X_train,y_train)"
   ]
  },
  {
   "cell_type": "markdown",
   "metadata": {},
   "source": [
    "**Checking the default values of hyperparameter**"
   ]
  },
  {
   "cell_type": "code",
   "execution_count": 9,
   "metadata": {
    "scrolled": true
   },
   "outputs": [
    {
     "data": {
      "text/plain": [
       "{'bootstrap': True,\n",
       " 'ccp_alpha': 0.0,\n",
       " 'class_weight': None,\n",
       " 'criterion': 'gini',\n",
       " 'max_depth': None,\n",
       " 'max_features': 'auto',\n",
       " 'max_leaf_nodes': None,\n",
       " 'max_samples': None,\n",
       " 'min_impurity_decrease': 0.0,\n",
       " 'min_impurity_split': None,\n",
       " 'min_samples_leaf': 1,\n",
       " 'min_samples_split': 2,\n",
       " 'min_weight_fraction_leaf': 0.0,\n",
       " 'n_estimators': 100,\n",
       " 'n_jobs': None,\n",
       " 'oob_score': False,\n",
       " 'random_state': None,\n",
       " 'verbose': 0,\n",
       " 'warm_start': False}"
      ]
     },
     "execution_count": 9,
     "metadata": {},
     "output_type": "execute_result"
    }
   ],
   "source": [
    "forest.get_params(deep=True)"
   ]
  },
  {
   "cell_type": "markdown",
   "metadata": {},
   "source": [
    "## Checking the performance of the model"
   ]
  },
  {
   "cell_type": "code",
   "execution_count": 10,
   "metadata": {},
   "outputs": [
    {
     "name": "stdout",
     "output_type": "stream",
     "text": [
      "              precision    recall  f1-score   support\n",
      "\n",
      "           0       1.00      1.00      1.00     16169\n",
      "           1       1.00      1.00      1.00      3958\n",
      "\n",
      "    accuracy                           1.00     20127\n",
      "   macro avg       1.00      1.00      1.00     20127\n",
      "weighted avg       1.00      1.00      1.00     20127\n",
      "\n"
     ]
    }
   ],
   "source": [
    "from sklearn.metrics import classification_report\n",
    "predicted_values = forest.predict(X_train)\n",
    "print(classification_report(y_train,predicted_values))"
   ]
  },
  {
   "cell_type": "code",
   "execution_count": 11,
   "metadata": {},
   "outputs": [
    {
     "name": "stdout",
     "output_type": "stream",
     "text": [
      "              precision    recall  f1-score   support\n",
      "\n",
      "           0       0.87      0.96      0.91      4029\n",
      "           1       0.71      0.43      0.53      1003\n",
      "\n",
      "    accuracy                           0.85      5032\n",
      "   macro avg       0.79      0.69      0.72      5032\n",
      "weighted avg       0.84      0.85      0.84      5032\n",
      "\n"
     ]
    }
   ],
   "source": [
    "predicted_values = forest.predict(X_test)\n",
    "print(classification_report(y_test,predicted_values))"
   ]
  },
  {
   "cell_type": "markdown",
   "metadata": {},
   "source": [
    "* Obviously, our model overfits!"
   ]
  },
  {
   "cell_type": "markdown",
   "metadata": {},
   "source": [
    "Now to decide a suitable value for hyperparameter *n_estimators* and *max_samples*, we need to compare the *f1_score* at different hyperparameter values. Then, we'll decide the best one!"
   ]
  },
  {
   "cell_type": "code",
   "execution_count": 15,
   "metadata": {},
   "outputs": [],
   "source": [
    "from sklearn.metrics import f1_score\n",
    "def calc_score(model, x1, y1, x2, y2):\n",
    "    '''\n",
    "    This takes the model and the training and test dataset\n",
    "    returns the corresponding f1_score\n",
    "    '''\n",
    "\n",
    "    model.fit(x1,y1)\n",
    "\n",
    "    predict = model.predict(x1)\n",
    "    f1 = f1_score(y1, predict)\n",
    "\n",
    "    predict = model.predict(x2)\n",
    "    f2 = f1_score(y2, predict)\n",
    "\n",
    "    return f1, f2"
   ]
  },
  {
   "cell_type": "code",
   "execution_count": 18,
   "metadata": {},
   "outputs": [],
   "source": [
    "def effect(train_score, test_score, x_axis, title):\n",
    "    '''\n",
    "    It plots the f1_score of training and test dataset at different\n",
    "    values of hyperparameter for comparative analysis\n",
    "    '''\n",
    "    plt.figure(figsize = (7,4), dpi = 120)\n",
    "    plt.plot(x_axis, train_score, color = 'red', label = 'train_Score')\n",
    "    plt.plot(x_axis, test_score, color = 'blue', label = 'test_Score')\n",
    "    plt.title(title)\n",
    "    plt.legend()\n",
    "    plt.xlabel(\"parameter_value\")\n",
    "    plt.ylabel(\"f1 score\")\n",
    "    plt.show()\n",
    " "
   ]
  },
  {
   "cell_type": "markdown",
   "metadata": {},
   "source": [
    "**n_estimators**"
   ]
  },
  {
   "cell_type": "code",
   "execution_count": 19,
   "metadata": {},
   "outputs": [],
   "source": [
    "estimators = [i for i in range(1,600,10)]\n",
    "train = []\n",
    "test = []\n",
    "\n",
    "for i in estimators:\n",
    "    model = RFC(class_weight = 'balanced_subsample',\n",
    "              n_estimators = i,\n",
    "              n_jobs = -1,\n",
    "              random_state = 101)\n",
    "    f1, f2 = calc_score(model, X_train, y_train, X_test, y_test)\n",
    "    train.append(f1)\n",
    "    test.append(f2)"
   ]
  },
  {
   "cell_type": "code",
   "execution_count": 20,
   "metadata": {},
   "outputs": [
    {
     "data": {
      "image/png": "[encoded data removed]",
      "text/plain": [
       "<Figure size 840x480 with 1 Axes>"
      ]
     },
     "metadata": {
      "needs_background": "light"
     },
     "output_type": "display_data"
    }
   ],
   "source": [
    "effect(train,test,range(1,600,10),'n_estimators')"
   ]
  },
  {
   "cell_type": "code",
   "execution_count": 21,
   "metadata": {},
   "outputs": [
    {
     "data": {
      "text/html": [
       "<div>\n",
       "<style scoped>\n",
       "    .dataframe tbody tr th:only-of-type {\n",
       "        vertical-align: middle;\n",
       "    }\n",
       "\n",
       "    .dataframe tbody tr th {\n",
       "        vertical-align: top;\n",
       "    }\n",
       "\n",
       "    .dataframe thead th {\n",
       "        text-align: right;\n",
       "    }\n",
       "</style>\n",
       "<table border=\"1\" class=\"dataframe\">\n",
       "  <thead>\n",
       "    <tr style=\"text-align: right;\">\n",
       "      <th></th>\n",
       "      <th>n_estimators</th>\n",
       "      <th>Train_Score</th>\n",
       "      <th>Test_Score</th>\n",
       "      <th>Difference</th>\n",
       "    </tr>\n",
       "  </thead>\n",
       "  <tbody>\n",
       "    <tr>\n",
       "      <th>0</th>\n",
       "      <td>1</td>\n",
       "      <td>0.787146</td>\n",
       "      <td>0.430754</td>\n",
       "      <td>0.356392</td>\n",
       "    </tr>\n",
       "    <tr>\n",
       "      <th>1</th>\n",
       "      <td>11</td>\n",
       "      <td>0.979241</td>\n",
       "      <td>0.488357</td>\n",
       "      <td>0.490884</td>\n",
       "    </tr>\n",
       "    <tr>\n",
       "      <th>2</th>\n",
       "      <td>21</td>\n",
       "      <td>0.990450</td>\n",
       "      <td>0.510450</td>\n",
       "      <td>0.480000</td>\n",
       "    </tr>\n",
       "    <tr>\n",
       "      <th>3</th>\n",
       "      <td>31</td>\n",
       "      <td>0.994924</td>\n",
       "      <td>0.507367</td>\n",
       "      <td>0.487557</td>\n",
       "    </tr>\n",
       "    <tr>\n",
       "      <th>4</th>\n",
       "      <td>41</td>\n",
       "      <td>0.997087</td>\n",
       "      <td>0.516046</td>\n",
       "      <td>0.481041</td>\n",
       "    </tr>\n",
       "    <tr>\n",
       "      <th>5</th>\n",
       "      <td>51</td>\n",
       "      <td>0.998355</td>\n",
       "      <td>0.517086</td>\n",
       "      <td>0.481269</td>\n",
       "    </tr>\n",
       "    <tr>\n",
       "      <th>6</th>\n",
       "      <td>61</td>\n",
       "      <td>0.999241</td>\n",
       "      <td>0.508783</td>\n",
       "      <td>0.490458</td>\n",
       "    </tr>\n",
       "    <tr>\n",
       "      <th>7</th>\n",
       "      <td>71</td>\n",
       "      <td>0.999494</td>\n",
       "      <td>0.508122</td>\n",
       "      <td>0.491372</td>\n",
       "    </tr>\n",
       "    <tr>\n",
       "      <th>8</th>\n",
       "      <td>81</td>\n",
       "      <td>0.999621</td>\n",
       "      <td>0.517419</td>\n",
       "      <td>0.482202</td>\n",
       "    </tr>\n",
       "    <tr>\n",
       "      <th>9</th>\n",
       "      <td>91</td>\n",
       "      <td>0.999621</td>\n",
       "      <td>0.513583</td>\n",
       "      <td>0.486037</td>\n",
       "    </tr>\n",
       "  </tbody>\n",
       "</table>\n",
       "</div>"
      ],
      "text/plain": [
       "   n_estimators  Train_Score  Test_Score  Difference\n",
       "0             1     0.787146    0.430754    0.356392\n",
       "1            11     0.979241    0.488357    0.490884\n",
       "2            21     0.990450    0.510450    0.480000\n",
       "3            31     0.994924    0.507367    0.487557\n",
       "4            41     0.997087    0.516046    0.481041\n",
       "5            51     0.998355    0.517086    0.481269\n",
       "6            61     0.999241    0.508783    0.490458\n",
       "7            71     0.999494    0.508122    0.491372\n",
       "8            81     0.999621    0.517419    0.482202\n",
       "9            91     0.999621    0.513583    0.486037"
      ]
     },
     "execution_count": 21,
     "metadata": {},
     "output_type": "execute_result"
    }
   ],
   "source": [
    "diff = [i-j for i,j in zip(train,test)]\n",
    "n_estimators_df = pd.DataFrame({'n_estimators':estimators,\n",
    "                                'Train_Score':train,\n",
    "                                'Test_Score':test,\n",
    "                                'Difference':diff})\n",
    "n_estimators_df.head(10)"
   ]
  },
  {
   "cell_type": "markdown",
   "metadata": {},
   "source": [
    "* Hence, the forest works comparatively good at n_estimators = 51"
   ]
  },
  {
   "cell_type": "markdown",
   "metadata": {},
   "source": [
    "**max_samples**"
   ]
  },
  {
   "cell_type": "code",
   "execution_count": 22,
   "metadata": {},
   "outputs": [],
   "source": [
    "maxsamples = [i/1000 for i in range(1,1000)]\n",
    "train = []\n",
    "test = []\n",
    "\n",
    "for i in maxsamples:  \n",
    "  model = RFC(class_weight = 'balanced_subsample', n_estimators = 51,\n",
    "              n_jobs = -1, random_state = 101, max_samples = i)\n",
    "  f1, f2 = calc_score(model, X_train, y_train, X_test, y_test)\n",
    "  train.append(f1)\n",
    "  test.append(f2)"
   ]
  },
  {
   "cell_type": "code",
   "execution_count": 23,
   "metadata": {},
   "outputs": [
    {
     "data": {
      "image/png": "[encoded data removed]",
      "text/plain": [
       "<Figure size 840x480 with 1 Axes>"
      ]
     },
     "metadata": {
      "needs_background": "light"
     },
     "output_type": "display_data"
    }
   ],
   "source": [
    "effect( train, test, maxsamples , 'bootstrap sample fraction')"
   ]
  },
  {
   "cell_type": "code",
   "execution_count": null,
   "metadata": {},
   "outputs": [],
   "source": [
    "diff = [i-j for i,j in zip(train,test)]\n",
    "max_samples_df = pd.DataFrame({'max_samples':maxsamples,\n",
    "                                'Train_Score':train,\n",
    "                                'Test_Score':test,\n",
    "                                'Difference':diff})\n"
   ]
  },
  {
   "cell_type": "code",
   "execution_count": 26,
   "metadata": {},
   "outputs": [
    {
     "data": {
      "text/html": [
       "<div>\n",
       "<style scoped>\n",
       "    .dataframe tbody tr th:only-of-type {\n",
       "        vertical-align: middle;\n",
       "    }\n",
       "\n",
       "    .dataframe tbody tr th {\n",
       "        vertical-align: top;\n",
       "    }\n",
       "\n",
       "    .dataframe thead th {\n",
       "        text-align: right;\n",
       "    }\n",
       "</style>\n",
       "<table border=\"1\" class=\"dataframe\">\n",
       "  <thead>\n",
       "    <tr style=\"text-align: right;\">\n",
       "      <th></th>\n",
       "      <th>max_samples</th>\n",
       "      <th>Train_Score</th>\n",
       "      <th>Test_Score</th>\n",
       "      <th>Difference</th>\n",
       "    </tr>\n",
       "  </thead>\n",
       "  <tbody>\n",
       "    <tr>\n",
       "      <th>40</th>\n",
       "      <td>0.041</td>\n",
       "      <td>0.456222</td>\n",
       "      <td>0.420827</td>\n",
       "      <td>0.035395</td>\n",
       "    </tr>\n",
       "    <tr>\n",
       "      <th>41</th>\n",
       "      <td>0.042</td>\n",
       "      <td>0.455984</td>\n",
       "      <td>0.414530</td>\n",
       "      <td>0.041454</td>\n",
       "    </tr>\n",
       "    <tr>\n",
       "      <th>42</th>\n",
       "      <td>0.043</td>\n",
       "      <td>0.454167</td>\n",
       "      <td>0.413990</td>\n",
       "      <td>0.040177</td>\n",
       "    </tr>\n",
       "    <tr>\n",
       "      <th>43</th>\n",
       "      <td>0.044</td>\n",
       "      <td>0.471715</td>\n",
       "      <td>0.423944</td>\n",
       "      <td>0.047771</td>\n",
       "    </tr>\n",
       "    <tr>\n",
       "      <th>44</th>\n",
       "      <td>0.045</td>\n",
       "      <td>0.462963</td>\n",
       "      <td>0.423430</td>\n",
       "      <td>0.039533</td>\n",
       "    </tr>\n",
       "    <tr>\n",
       "      <th>45</th>\n",
       "      <td>0.046</td>\n",
       "      <td>0.466702</td>\n",
       "      <td>0.430152</td>\n",
       "      <td>0.036550</td>\n",
       "    </tr>\n",
       "    <tr>\n",
       "      <th>46</th>\n",
       "      <td>0.047</td>\n",
       "      <td>0.458603</td>\n",
       "      <td>0.417256</td>\n",
       "      <td>0.041347</td>\n",
       "    </tr>\n",
       "    <tr>\n",
       "      <th>47</th>\n",
       "      <td>0.048</td>\n",
       "      <td>0.463042</td>\n",
       "      <td>0.435933</td>\n",
       "      <td>0.027109</td>\n",
       "    </tr>\n",
       "    <tr>\n",
       "      <th>48</th>\n",
       "      <td>0.049</td>\n",
       "      <td>0.477992</td>\n",
       "      <td>0.425532</td>\n",
       "      <td>0.052460</td>\n",
       "    </tr>\n",
       "    <tr>\n",
       "      <th>49</th>\n",
       "      <td>0.050</td>\n",
       "      <td>0.464809</td>\n",
       "      <td>0.431095</td>\n",
       "      <td>0.033713</td>\n",
       "    </tr>\n",
       "  </tbody>\n",
       "</table>\n",
       "</div>"
      ],
      "text/plain": [
       "    max_samples  Train_Score  Test_Score  Difference\n",
       "40        0.041     0.456222    0.420827    0.035395\n",
       "41        0.042     0.455984    0.414530    0.041454\n",
       "42        0.043     0.454167    0.413990    0.040177\n",
       "43        0.044     0.471715    0.423944    0.047771\n",
       "44        0.045     0.462963    0.423430    0.039533\n",
       "45        0.046     0.466702    0.430152    0.036550\n",
       "46        0.047     0.458603    0.417256    0.041347\n",
       "47        0.048     0.463042    0.435933    0.027109\n",
       "48        0.049     0.477992    0.425532    0.052460\n",
       "49        0.050     0.464809    0.431095    0.033713"
      ]
     },
     "execution_count": 26,
     "metadata": {},
     "output_type": "execute_result"
    }
   ],
   "source": [
    "max_samples_df.iloc[40:50,:]"
   ]
  },
  {
   "cell_type": "markdown",
   "metadata": {},
   "source": [
    "* Hence, model works comparatively better at max_samples = 0.050"
   ]
  },
  {
   "cell_type": "markdown",
   "metadata": {},
   "source": [
    "**max_features**"
   ]
  },
  {
   "cell_type": "code",
   "execution_count": 27,
   "metadata": {},
   "outputs": [],
   "source": [
    "maxfeatures = range(1,X.shape[1])\n",
    "train = []\n",
    "test = []\n",
    "\n",
    "for i in maxfeatures:  \n",
    "    model = RFC(class_weight = 'balanced_subsample', n_estimators = 51, max_samples=0.5,\n",
    "              n_jobs = -1, random_state = 101, max_features = i)\n",
    "    f1, f2 = calc_score(model, X_train, y_train, X_test, y_test)\n",
    "    train.append(f1)\n",
    "    test.append(f2)"
   ]
  },
  {
   "cell_type": "code",
   "execution_count": 28,
   "metadata": {},
   "outputs": [
    {
     "data": {
      "image/png": "[encoded data removed]",
      "text/plain": [
       "<Figure size 840x480 with 1 Axes>"
      ]
     },
     "metadata": {
      "needs_background": "light"
     },
     "output_type": "display_data"
    }
   ],
   "source": [
    "effect( train, test, maxfeatures , 'number of max features for individual tree')"
   ]
  },
  {
   "cell_type": "code",
   "execution_count": 32,
   "metadata": {},
   "outputs": [
    {
     "data": {
      "text/html": [
       "<div>\n",
       "<style scoped>\n",
       "    .dataframe tbody tr th:only-of-type {\n",
       "        vertical-align: middle;\n",
       "    }\n",
       "\n",
       "    .dataframe tbody tr th {\n",
       "        vertical-align: top;\n",
       "    }\n",
       "\n",
       "    .dataframe thead th {\n",
       "        text-align: right;\n",
       "    }\n",
       "</style>\n",
       "<table border=\"1\" class=\"dataframe\">\n",
       "  <thead>\n",
       "    <tr style=\"text-align: right;\">\n",
       "      <th></th>\n",
       "      <th>max_features</th>\n",
       "      <th>Train_Score</th>\n",
       "      <th>Test_Score</th>\n",
       "      <th>Difference</th>\n",
       "    </tr>\n",
       "  </thead>\n",
       "  <tbody>\n",
       "    <tr>\n",
       "      <th>5</th>\n",
       "      <td>6</td>\n",
       "      <td>0.861347</td>\n",
       "      <td>0.505438</td>\n",
       "      <td>0.355909</td>\n",
       "    </tr>\n",
       "    <tr>\n",
       "      <th>6</th>\n",
       "      <td>7</td>\n",
       "      <td>0.860248</td>\n",
       "      <td>0.509349</td>\n",
       "      <td>0.350900</td>\n",
       "    </tr>\n",
       "    <tr>\n",
       "      <th>7</th>\n",
       "      <td>8</td>\n",
       "      <td>0.861777</td>\n",
       "      <td>0.506394</td>\n",
       "      <td>0.355383</td>\n",
       "    </tr>\n",
       "    <tr>\n",
       "      <th>8</th>\n",
       "      <td>9</td>\n",
       "      <td>0.858799</td>\n",
       "      <td>0.507292</td>\n",
       "      <td>0.351506</td>\n",
       "    </tr>\n",
       "    <tr>\n",
       "      <th>9</th>\n",
       "      <td>10</td>\n",
       "      <td>0.864774</td>\n",
       "      <td>0.509230</td>\n",
       "      <td>0.355544</td>\n",
       "    </tr>\n",
       "    <tr>\n",
       "      <th>10</th>\n",
       "      <td>11</td>\n",
       "      <td>0.859966</td>\n",
       "      <td>0.521848</td>\n",
       "      <td>0.338118</td>\n",
       "    </tr>\n",
       "    <tr>\n",
       "      <th>11</th>\n",
       "      <td>12</td>\n",
       "      <td>0.860845</td>\n",
       "      <td>0.499681</td>\n",
       "      <td>0.361165</td>\n",
       "    </tr>\n",
       "    <tr>\n",
       "      <th>12</th>\n",
       "      <td>13</td>\n",
       "      <td>0.859679</td>\n",
       "      <td>0.517677</td>\n",
       "      <td>0.342002</td>\n",
       "    </tr>\n",
       "    <tr>\n",
       "      <th>13</th>\n",
       "      <td>14</td>\n",
       "      <td>0.861084</td>\n",
       "      <td>0.514250</td>\n",
       "      <td>0.346834</td>\n",
       "    </tr>\n",
       "    <tr>\n",
       "      <th>14</th>\n",
       "      <td>15</td>\n",
       "      <td>0.855693</td>\n",
       "      <td>0.517306</td>\n",
       "      <td>0.338387</td>\n",
       "    </tr>\n",
       "    <tr>\n",
       "      <th>15</th>\n",
       "      <td>16</td>\n",
       "      <td>0.857627</td>\n",
       "      <td>0.515267</td>\n",
       "      <td>0.342360</td>\n",
       "    </tr>\n",
       "    <tr>\n",
       "      <th>16</th>\n",
       "      <td>17</td>\n",
       "      <td>0.854199</td>\n",
       "      <td>0.507576</td>\n",
       "      <td>0.346623</td>\n",
       "    </tr>\n",
       "    <tr>\n",
       "      <th>17</th>\n",
       "      <td>18</td>\n",
       "      <td>0.856256</td>\n",
       "      <td>0.509458</td>\n",
       "      <td>0.346798</td>\n",
       "    </tr>\n",
       "    <tr>\n",
       "      <th>18</th>\n",
       "      <td>19</td>\n",
       "      <td>0.858228</td>\n",
       "      <td>0.512917</td>\n",
       "      <td>0.345310</td>\n",
       "    </tr>\n",
       "    <tr>\n",
       "      <th>19</th>\n",
       "      <td>20</td>\n",
       "      <td>0.858268</td>\n",
       "      <td>0.503778</td>\n",
       "      <td>0.354489</td>\n",
       "    </tr>\n",
       "  </tbody>\n",
       "</table>\n",
       "</div>"
      ],
      "text/plain": [
       "    max_features  Train_Score  Test_Score  Difference\n",
       "5              6     0.861347    0.505438    0.355909\n",
       "6              7     0.860248    0.509349    0.350900\n",
       "7              8     0.861777    0.506394    0.355383\n",
       "8              9     0.858799    0.507292    0.351506\n",
       "9             10     0.864774    0.509230    0.355544\n",
       "10            11     0.859966    0.521848    0.338118\n",
       "11            12     0.860845    0.499681    0.361165\n",
       "12            13     0.859679    0.517677    0.342002\n",
       "13            14     0.861084    0.514250    0.346834\n",
       "14            15     0.855693    0.517306    0.338387\n",
       "15            16     0.857627    0.515267    0.342360\n",
       "16            17     0.854199    0.507576    0.346623\n",
       "17            18     0.856256    0.509458    0.346798\n",
       "18            19     0.858228    0.512917    0.345310\n",
       "19            20     0.858268    0.503778    0.354489"
      ]
     },
     "execution_count": 32,
     "metadata": {},
     "output_type": "execute_result"
    }
   ],
   "source": [
    "diff = [i-j for i,j in zip(train,test)]\n",
    "max_features_df = pd.DataFrame({'max_features':maxfeatures,\n",
    "                                'Train_Score':train,\n",
    "                                'Test_Score':test,\n",
    "                                'Difference':diff})\n",
    "max_features_df.iloc[5:20]"
   ]
  },
  {
   "cell_type": "markdown",
   "metadata": {},
   "source": [
    "* Hence, at max_features = 15, the model works comparatively well."
   ]
  },
  {
   "cell_type": "markdown",
   "metadata": {},
   "source": [
    "**max_depth**"
   ]
  },
  {
   "cell_type": "code",
   "execution_count": 41,
   "metadata": {},
   "outputs": [],
   "source": [
    "maxdepth = [int(x) for x in np.linspace(5,500,num=100)]\n",
    "\n",
    "train = []\n",
    "test = []\n",
    "for i in maxdepth:\n",
    "    model = RFC(class_weight='balanced_subsample', n_estimators=51,\n",
    "                n_jobs=-1, max_depth=i, random_state=101)\n",
    "    f1,f2 = calc_score(model,X_train,y_train,X_test,y_test)\n",
    "    train.append(f1)\n",
    "    test.append(f2)"
   ]
  },
  {
   "cell_type": "code",
   "execution_count": 42,
   "metadata": {},
   "outputs": [
    {
     "data": {
      "image/png": "[encoded data removed]",
      "text/plain": [
       "<Figure size 840x480 with 1 Axes>"
      ]
     },
     "metadata": {
      "needs_background": "light"
     },
     "output_type": "display_data"
    }
   ],
   "source": [
    "effect(train,test,maxdepth,'max_depth')"
   ]
  },
  {
   "cell_type": "code",
   "execution_count": 44,
   "metadata": {},
   "outputs": [
    {
     "data": {
      "text/html": [
       "<div>\n",
       "<style scoped>\n",
       "    .dataframe tbody tr th:only-of-type {\n",
       "        vertical-align: middle;\n",
       "    }\n",
       "\n",
       "    .dataframe tbody tr th {\n",
       "        vertical-align: top;\n",
       "    }\n",
       "\n",
       "    .dataframe thead th {\n",
       "        text-align: right;\n",
       "    }\n",
       "</style>\n",
       "<table border=\"1\" class=\"dataframe\">\n",
       "  <thead>\n",
       "    <tr style=\"text-align: right;\">\n",
       "      <th></th>\n",
       "      <th>max_depth</th>\n",
       "      <th>Train_Score</th>\n",
       "      <th>Test_Score</th>\n",
       "      <th>Difference</th>\n",
       "    </tr>\n",
       "  </thead>\n",
       "  <tbody>\n",
       "    <tr>\n",
       "      <th>0</th>\n",
       "      <td>5</td>\n",
       "      <td>0.563131</td>\n",
       "      <td>0.541683</td>\n",
       "      <td>0.021447</td>\n",
       "    </tr>\n",
       "    <tr>\n",
       "      <th>1</th>\n",
       "      <td>10</td>\n",
       "      <td>0.735835</td>\n",
       "      <td>0.577885</td>\n",
       "      <td>0.157951</td>\n",
       "    </tr>\n",
       "    <tr>\n",
       "      <th>2</th>\n",
       "      <td>15</td>\n",
       "      <td>0.907653</td>\n",
       "      <td>0.550383</td>\n",
       "      <td>0.357270</td>\n",
       "    </tr>\n",
       "    <tr>\n",
       "      <th>3</th>\n",
       "      <td>20</td>\n",
       "      <td>0.966075</td>\n",
       "      <td>0.528040</td>\n",
       "      <td>0.438035</td>\n",
       "    </tr>\n",
       "    <tr>\n",
       "      <th>4</th>\n",
       "      <td>25</td>\n",
       "      <td>0.994794</td>\n",
       "      <td>0.509702</td>\n",
       "      <td>0.485091</td>\n",
       "    </tr>\n",
       "    <tr>\n",
       "      <th>5</th>\n",
       "      <td>30</td>\n",
       "      <td>0.998102</td>\n",
       "      <td>0.511327</td>\n",
       "      <td>0.486775</td>\n",
       "    </tr>\n",
       "    <tr>\n",
       "      <th>6</th>\n",
       "      <td>35</td>\n",
       "      <td>0.998355</td>\n",
       "      <td>0.516420</td>\n",
       "      <td>0.481935</td>\n",
       "    </tr>\n",
       "    <tr>\n",
       "      <th>7</th>\n",
       "      <td>40</td>\n",
       "      <td>0.998355</td>\n",
       "      <td>0.515796</td>\n",
       "      <td>0.482559</td>\n",
       "    </tr>\n",
       "    <tr>\n",
       "      <th>8</th>\n",
       "      <td>45</td>\n",
       "      <td>0.998355</td>\n",
       "      <td>0.517086</td>\n",
       "      <td>0.481269</td>\n",
       "    </tr>\n",
       "    <tr>\n",
       "      <th>9</th>\n",
       "      <td>50</td>\n",
       "      <td>0.998355</td>\n",
       "      <td>0.517086</td>\n",
       "      <td>0.481269</td>\n",
       "    </tr>\n",
       "    <tr>\n",
       "      <th>10</th>\n",
       "      <td>55</td>\n",
       "      <td>0.998355</td>\n",
       "      <td>0.517086</td>\n",
       "      <td>0.481269</td>\n",
       "    </tr>\n",
       "    <tr>\n",
       "      <th>11</th>\n",
       "      <td>60</td>\n",
       "      <td>0.998355</td>\n",
       "      <td>0.517086</td>\n",
       "      <td>0.481269</td>\n",
       "    </tr>\n",
       "    <tr>\n",
       "      <th>12</th>\n",
       "      <td>65</td>\n",
       "      <td>0.998355</td>\n",
       "      <td>0.517086</td>\n",
       "      <td>0.481269</td>\n",
       "    </tr>\n",
       "    <tr>\n",
       "      <th>13</th>\n",
       "      <td>70</td>\n",
       "      <td>0.998355</td>\n",
       "      <td>0.517086</td>\n",
       "      <td>0.481269</td>\n",
       "    </tr>\n",
       "    <tr>\n",
       "      <th>14</th>\n",
       "      <td>75</td>\n",
       "      <td>0.998355</td>\n",
       "      <td>0.517086</td>\n",
       "      <td>0.481269</td>\n",
       "    </tr>\n",
       "    <tr>\n",
       "      <th>15</th>\n",
       "      <td>80</td>\n",
       "      <td>0.998355</td>\n",
       "      <td>0.517086</td>\n",
       "      <td>0.481269</td>\n",
       "    </tr>\n",
       "    <tr>\n",
       "      <th>16</th>\n",
       "      <td>85</td>\n",
       "      <td>0.998355</td>\n",
       "      <td>0.517086</td>\n",
       "      <td>0.481269</td>\n",
       "    </tr>\n",
       "    <tr>\n",
       "      <th>17</th>\n",
       "      <td>90</td>\n",
       "      <td>0.998355</td>\n",
       "      <td>0.517086</td>\n",
       "      <td>0.481269</td>\n",
       "    </tr>\n",
       "    <tr>\n",
       "      <th>18</th>\n",
       "      <td>95</td>\n",
       "      <td>0.998355</td>\n",
       "      <td>0.517086</td>\n",
       "      <td>0.481269</td>\n",
       "    </tr>\n",
       "    <tr>\n",
       "      <th>19</th>\n",
       "      <td>100</td>\n",
       "      <td>0.998355</td>\n",
       "      <td>0.517086</td>\n",
       "      <td>0.481269</td>\n",
       "    </tr>\n",
       "  </tbody>\n",
       "</table>\n",
       "</div>"
      ],
      "text/plain": [
       "    max_depth  Train_Score  Test_Score  Difference\n",
       "0           5     0.563131    0.541683    0.021447\n",
       "1          10     0.735835    0.577885    0.157951\n",
       "2          15     0.907653    0.550383    0.357270\n",
       "3          20     0.966075    0.528040    0.438035\n",
       "4          25     0.994794    0.509702    0.485091\n",
       "5          30     0.998102    0.511327    0.486775\n",
       "6          35     0.998355    0.516420    0.481935\n",
       "7          40     0.998355    0.515796    0.482559\n",
       "8          45     0.998355    0.517086    0.481269\n",
       "9          50     0.998355    0.517086    0.481269\n",
       "10         55     0.998355    0.517086    0.481269\n",
       "11         60     0.998355    0.517086    0.481269\n",
       "12         65     0.998355    0.517086    0.481269\n",
       "13         70     0.998355    0.517086    0.481269\n",
       "14         75     0.998355    0.517086    0.481269\n",
       "15         80     0.998355    0.517086    0.481269\n",
       "16         85     0.998355    0.517086    0.481269\n",
       "17         90     0.998355    0.517086    0.481269\n",
       "18         95     0.998355    0.517086    0.481269\n",
       "19        100     0.998355    0.517086    0.481269"
      ]
     },
     "execution_count": 44,
     "metadata": {},
     "output_type": "execute_result"
    }
   ],
   "source": [
    "diff = [i-j for i,j in zip(train,test)]\n",
    "max_depth_df = pd.DataFrame({'max_depth':maxdepth,\n",
    "                                'Train_Score':train,\n",
    "                                'Test_Score':test,\n",
    "                                'Difference':diff})\n",
    "max_depth_df.iloc[:20]"
   ]
  },
  {
   "cell_type": "markdown",
   "metadata": {},
   "source": [
    "* Hence, max_depth = 10, the model works comparatively better."
   ]
  },
  {
   "cell_type": "markdown",
   "metadata": {},
   "source": [
    "Hence, the above comparative analysis has given us the approximate values of different hyperparameter at which the model works best. To reduce the time for RandomSearchCV we'll use these values to define the centre of our searching!"
   ]
  },
  {
   "cell_type": "markdown",
   "metadata": {},
   "source": [
    "Now to create a good model we'll try **adjusting the following set of hyperparameters:**\n",
    "* n_estimators\n",
    "* max_features\n",
    "* max_depth\n",
    "* min_samples_split\n",
    "* min_samples_leaf\n",
    "* bootstrap\n",
    "\n",
    "## Random Hyperparameter Grid\n",
    "To use RandomizedSearchCV, we first need to create a parameter grid to sample from during fitting:\n"
   ]
  },
  {
   "cell_type": "code",
   "execution_count": 46,
   "metadata": {},
   "outputs": [
    {
     "data": {
      "text/plain": [
       "23"
      ]
     },
     "execution_count": 46,
     "metadata": {},
     "output_type": "execute_result"
    }
   ],
   "source": [
    "len(X.columns)"
   ]
  },
  {
   "cell_type": "code",
   "execution_count": 58,
   "metadata": {},
   "outputs": [
    {
     "name": "stdout",
     "output_type": "stream",
     "text": [
      "{'bootstrap': [True, False],\n",
      " 'max_depth': [5, 8, 12, 16, 20, None],\n",
      " 'max_features': [4, 8, 12, 16],\n",
      " 'max_samples': [0.04,\n",
      "                 0.0473469387755102,\n",
      "                 0.05469387755102041,\n",
      "                 0.062040816326530614,\n",
      "                 0.06938775510204082,\n",
      "                 0.07673469387755102,\n",
      "                 0.08408163265306123,\n",
      "                 0.09142857142857144,\n",
      "                 0.09877551020408164,\n",
      "                 0.10612244897959183,\n",
      "                 0.11346938775510204,\n",
      "                 0.12081632653061225,\n",
      "                 0.12816326530612246,\n",
      "                 0.13551020408163267,\n",
      "                 0.14285714285714288,\n",
      "                 0.15020408163265306,\n",
      "                 0.15755102040816327,\n",
      "                 0.16489795918367348,\n",
      "                 0.17224489795918368,\n",
      "                 0.1795918367346939,\n",
      "                 0.1869387755102041,\n",
      "                 0.1942857142857143,\n",
      "                 0.20163265306122452,\n",
      "                 0.2089795918367347,\n",
      "                 0.2163265306122449,\n",
      "                 0.22367346938775512,\n",
      "                 0.23102040816326533,\n",
      "                 0.23836734693877554,\n",
      "                 0.24571428571428575,\n",
      "                 0.2530612244897959,\n",
      "                 0.26040816326530614,\n",
      "                 0.2677551020408163,\n",
      "                 0.27510204081632655,\n",
      "                 0.28244897959183674,\n",
      "                 0.28979591836734697,\n",
      "                 0.29714285714285715,\n",
      "                 0.30448979591836733,\n",
      "                 0.31183673469387757,\n",
      "                 0.31918367346938775,\n",
      "                 0.32653061224489793,\n",
      "                 0.33387755102040817,\n",
      "                 0.34122448979591835,\n",
      "                 0.3485714285714286,\n",
      "                 0.35591836734693877,\n",
      "                 0.363265306122449,\n",
      "                 0.3706122448979592,\n",
      "                 0.37795918367346937,\n",
      "                 0.3853061224489796,\n",
      "                 0.3926530612244898,\n",
      "                 0.4],\n",
      " 'min_samples_leaf': [1,\n",
      "                      27,\n",
      "                      53,\n",
      "                      79,\n",
      "                      106,\n",
      "                      132,\n",
      "                      158,\n",
      "                      184,\n",
      "                      211,\n",
      "                      237,\n",
      "                      263,\n",
      "                      289,\n",
      "                      316,\n",
      "                      342,\n",
      "                      368,\n",
      "                      394,\n",
      "                      421,\n",
      "                      447,\n",
      "                      473,\n",
      "                      500],\n",
      " 'min_samples_split': [2,\n",
      "                       37,\n",
      "                       73,\n",
      "                       108,\n",
      "                       144,\n",
      "                       179,\n",
      "                       215,\n",
      "                       251,\n",
      "                       286,\n",
      "                       322,\n",
      "                       357,\n",
      "                       393,\n",
      "                       428,\n",
      "                       464,\n",
      "                       500],\n",
      " 'n_estimators': [45, 46, 48, 50, 51, 53, 55, 56, 58, 60]}\n"
     ]
    }
   ],
   "source": [
    "from sklearn.model_selection import RandomizedSearchCV\n",
    "n_estimators = [int(x) for x in np.linspace(start=45,stop=60,num=10)]\n",
    "max_features = [4,8,12,16]\n",
    "max_samples = [float(x) for x in np.linspace(0.04,0.4,num=50)]\n",
    "max_depth = [int(x) for x in np.linspace(5,20,num=5)]\n",
    "max_depth.append(None)\n",
    "min_samples_split=[int(x) for x in np.linspace(2,500,15)]\n",
    "min_samples_leaf = [int(x) for x in np.linspace(1,500,20)]\n",
    "bootstrap = [True,False]\n",
    "\n",
    "random_grid = {'n_estimators':n_estimators,\n",
    "               'max_samples':max_samples,\n",
    "               'max_features':max_features,\n",
    "               'max_depth':max_depth,\n",
    "               'min_samples_split':min_samples_split,\n",
    "               'min_samples_leaf':min_samples_leaf,\n",
    "               'bootstrap':bootstrap}\n",
    "from pprint import pprint\n",
    "pprint(random_grid)"
   ]
  },
  {
   "cell_type": "markdown",
   "metadata": {},
   "source": [
    "* Altogether, there are 10 X 4 X 50 X 5 X 15 X 20 X 2 = 6,000,000 settings! The algorithm choose a different combination of features. However, the benefit of a random search is that we aren't trying every combination, but selecting at random to sample a wide range of values.\n",
    "## Random Search Training\n",
    "Now, we instantiate the random search and fit it like any scikit-learn model:"
   ]
  },
  {
   "cell_type": "code",
   "execution_count": 59,
   "metadata": {},
   "outputs": [
    {
     "name": "stdout",
     "output_type": "stream",
     "text": [
      "Fitting 3 folds for each of 80 candidates, totalling 240 fits\n"
     ]
    },
    {
     "name": "stderr",
     "output_type": "stream",
     "text": [
      "[Parallel(n_jobs=-1)]: Using backend LokyBackend with 4 concurrent workers.\n",
      "[Parallel(n_jobs=-1)]: Done  33 tasks      | elapsed:  1.5min\n",
      "[Parallel(n_jobs=-1)]: Done 154 tasks      | elapsed:  5.4min\n",
      "[Parallel(n_jobs=-1)]: Done 240 out of 240 | elapsed:  8.1min finished\n"
     ]
    },
    {
     "data": {
      "text/plain": [
       "RandomizedSearchCV(cv=3, estimator=RandomForestClassifier(), n_iter=80,\n",
       "                   n_jobs=-1,\n",
       "                   param_distributions={'bootstrap': [True, False],\n",
       "                                        'max_depth': [5, 8, 12, 16, 20, None],\n",
       "                                        'max_features': [4, 8, 12, 16],\n",
       "                                        'max_samples': [0.04,\n",
       "                                                        0.0473469387755102,\n",
       "                                                        0.05469387755102041,\n",
       "                                                        0.062040816326530614,\n",
       "                                                        0.06938775510204082,\n",
       "                                                        0.07673469387755102,\n",
       "                                                        0.08408163265306123,\n",
       "                                                        0.09142857142857144,\n",
       "                                                        0.0987...\n",
       "                                                        0.22367346938775512,\n",
       "                                                        0.23102040816326533,\n",
       "                                                        0.23836734693877554,\n",
       "                                                        0.24571428571428575,\n",
       "                                                        0.2530612244897959, ...],\n",
       "                                        'min_samples_leaf': [1, 27, 53, 79, 106,\n",
       "                                                             132, 158, 184, 211,\n",
       "                                                             237, 263, 289, 316,\n",
       "                                                             342, 368, 394, 421,\n",
       "                                                             447, 473, 500],\n",
       "                                        'min_samples_split': [2, 37, 73, 108,\n",
       "                                                              144, 179, 215,\n",
       "                                                              251, 286, 322,\n",
       "                                                              357, 393, 428,\n",
       "                                                              464, 500],\n",
       "                                        'n_estimators': [45, 46, 48, 50, 51, 53,\n",
       "                                                         55, 56, 58, 60]},\n",
       "                   random_state=42, verbose=2)"
      ]
     },
     "execution_count": 59,
     "metadata": {},
     "output_type": "execute_result"
    }
   ],
   "source": [
    "forest = RFC()\n",
    "forest_random = RandomizedSearchCV(estimator=forest, \n",
    "                                   param_distributions=random_grid,\n",
    "                                   n_iter=80,\n",
    "                                   cv=3,\n",
    "                                   verbose=2,\n",
    "                                   random_state=42,\n",
    "                                   n_jobs=-1)\n",
    "\n",
    "forest_random.fit(X_train,y_train)"
   ]
  },
  {
   "cell_type": "code",
   "execution_count": 60,
   "metadata": {},
   "outputs": [
    {
     "data": {
      "text/plain": [
       "{'n_estimators': 50,\n",
       " 'min_samples_split': 251,\n",
       " 'min_samples_leaf': 53,\n",
       " 'max_samples': 0.09142857142857144,\n",
       " 'max_features': 12,\n",
       " 'max_depth': 8,\n",
       " 'bootstrap': False}"
      ]
     },
     "execution_count": 60,
     "metadata": {},
     "output_type": "execute_result"
    }
   ],
   "source": [
    "forest_random.best_params_"
   ]
  },
  {
   "cell_type": "markdown",
   "metadata": {},
   "source": [
    "## Comparison between the base model and the best model(according to RandomSearchCV):"
   ]
  },
  {
   "cell_type": "code",
   "execution_count": 61,
   "metadata": {},
   "outputs": [
    {
     "name": "stdout",
     "output_type": "stream",
     "text": [
      "              precision    recall  f1-score   support\n",
      "\n",
      "           0       0.86      0.95      0.91      4029\n",
      "           1       0.68      0.39      0.50      1003\n",
      "\n",
      "    accuracy                           0.84      5032\n",
      "   macro avg       0.77      0.67      0.70      5032\n",
      "weighted avg       0.83      0.84      0.82      5032\n",
      "\n"
     ]
    }
   ],
   "source": [
    "# BASE MODEL\n",
    "\n",
    "base_forest = RFC(n_estimators = 10, random_state=42)\n",
    "base_forest.fit(X_train,y_train)\n",
    " \n",
    "from sklearn.metrics import classification_report\n",
    "pred = base_forest.predict(X_test)\n",
    "print(classification_report(y_test,pred))"
   ]
  },
  {
   "cell_type": "code",
   "execution_count": 62,
   "metadata": {},
   "outputs": [
    {
     "data": {
      "text/plain": [
       "0.8424085850556439"
      ]
     },
     "execution_count": 62,
     "metadata": {},
     "output_type": "execute_result"
    }
   ],
   "source": [
    "from sklearn.metrics import accuracy_score\n",
    "accuracy_score(y_test,pred)"
   ]
  },
  {
   "cell_type": "code",
   "execution_count": 63,
   "metadata": {},
   "outputs": [
    {
     "name": "stdout",
     "output_type": "stream",
     "text": [
      "              precision    recall  f1-score   support\n",
      "\n",
      "           0       0.87      0.96      0.91      4029\n",
      "           1       0.71      0.43      0.53      1003\n",
      "\n",
      "    accuracy                           0.85      5032\n",
      "   macro avg       0.79      0.69      0.72      5032\n",
      "weighted avg       0.84      0.85      0.84      5032\n",
      "\n"
     ]
    },
    {
     "data": {
      "text/plain": [
       "0.8507551669316376"
      ]
     },
     "execution_count": 63,
     "metadata": {},
     "output_type": "execute_result"
    }
   ],
   "source": [
    "# BEST MODEL\n",
    "\n",
    "best_forest = forest_random.best_estimator_\n",
    "pred = best_forest.predict(X_test)\n",
    "print(classification_report(y_test,pred))\n",
    "accuracy_score(y_test,pred)"
   ]
  },
  {
   "cell_type": "markdown",
   "metadata": {},
   "source": [
    "* Hence the performance of our model is **improved a lot**!\n",
    "Now using **Grid Search using Cross Validation**, we can improve this further!"
   ]
  },
  {
   "cell_type": "code",
   "execution_count": 64,
   "metadata": {},
   "outputs": [],
   "source": [
    "from sklearn.model_selection import GridSearchCV\n",
    "\n",
    "param_grid = {'bootstrap':[False],\n",
    "              'max_depth':[8,10],\n",
    "              'max_features':[10,12,14,16],\n",
    "              'min_samples_leaf':[45,53,61],\n",
    "              'min_samples_split':[245,251,255],\n",
    "              'n_estimators':[49,50,51,52]}\n",
    "\n",
    "rf = RFC()\n",
    "\n",
    "grid_search = GridSearchCV(estimator=rf, \n",
    "                           param_grid=param_grid, \n",
    "                           cv=3, \n",
    "                           n_jobs=-1,\n",
    "                           verbose=2)"
   ]
  },
  {
   "cell_type": "code",
   "execution_count": 65,
   "metadata": {},
   "outputs": [
    {
     "name": "stdout",
     "output_type": "stream",
     "text": [
      "Fitting 3 folds for each of 288 candidates, totalling 864 fits\n"
     ]
    },
    {
     "name": "stderr",
     "output_type": "stream",
     "text": [
      "[Parallel(n_jobs=-1)]: Using backend LokyBackend with 4 concurrent workers.\n",
      "[Parallel(n_jobs=-1)]: Done  33 tasks      | elapsed:  1.9min\n",
      "[Parallel(n_jobs=-1)]: Done 154 tasks      | elapsed:  9.5min\n",
      "[Parallel(n_jobs=-1)]: Done 357 tasks      | elapsed: 24.0min\n",
      "[Parallel(n_jobs=-1)]: Done 640 tasks      | elapsed: 47.3min\n",
      "[Parallel(n_jobs=-1)]: Done 864 out of 864 | elapsed: 95.8min finished\n"
     ]
    },
    {
     "data": {
      "text/plain": [
       "{'bootstrap': False,\n",
       " 'max_depth': 8,\n",
       " 'max_features': 10,\n",
       " 'min_samples_leaf': 53,\n",
       " 'min_samples_split': 245,\n",
       " 'n_estimators': 50}"
      ]
     },
     "execution_count": 65,
     "metadata": {},
     "output_type": "execute_result"
    }
   ],
   "source": [
    "grid_search.fit(X_train,y_train)\n",
    "grid_search.best_params_"
   ]
  },
  {
   "cell_type": "code",
   "execution_count": 67,
   "metadata": {},
   "outputs": [
    {
     "name": "stdout",
     "output_type": "stream",
     "text": [
      "              precision    recall  f1-score   support\n",
      "\n",
      "           0       0.96      0.87      0.91      4436\n",
      "           1       0.42      0.71      0.53       596\n",
      "\n",
      "    accuracy                           0.85      5032\n",
      "   macro avg       0.69      0.79      0.72      5032\n",
      "weighted avg       0.89      0.85      0.87      5032\n",
      "\n"
     ]
    }
   ],
   "source": [
    "best_grid_forest = grid_search.best_estimator_\n",
    "pred = best_grid_forest.predict(X_test)\n",
    "print(classification_report(pred,y_test))"
   ]
  },
  {
   "cell_type": "code",
   "execution_count": 68,
   "metadata": {},
   "outputs": [
    {
     "data": {
      "text/plain": [
       "0.8507551669316376"
      ]
     },
     "execution_count": 68,
     "metadata": {},
     "output_type": "execute_result"
    }
   ],
   "source": [
    "accuracy_score(pred,y_test)"
   ]
  },
  {
   "cell_type": "markdown",
   "metadata": {},
   "source": [
    "## Comparison:\n",
    "We can make some quick comparisons between the different approaches used to improve performance showing the returns on each"
   ]
  }
 ],
 "metadata": {
  "kernelspec": {
   "display_name": "Python 3",
   "language": "python",
   "name": "python3"
  },
  "language_info": {
   "codemirror_mode": {
    "name": "ipython",
    "version": 3
   },
   "file_extension": ".py",
   "mimetype": "text/x-python",
   "name": "python",
   "nbconvert_exporter": "python",
   "pygments_lexer": "ipython3",
   "version": "3.7.6"
  }
 },
 "nbformat": 4,
 "nbformat_minor": 4
}
